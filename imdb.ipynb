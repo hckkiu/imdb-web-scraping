{
 "cells": [
  {
   "cell_type": "code",
   "execution_count": null,
   "metadata": {},
   "outputs": [],
   "source": [
    "from selenium import webdriver\n",
    "from selenium.webdriver.common.by import By\n",
    "from selenium.webdriver.support.ui import WebDriverWait\n",
    "from selenium.webdriver.support import expected_conditions as EC\n",
    "import time\n",
    "import pandas as pd"
   ]
  },
  {
   "cell_type": "code",
   "execution_count": null,
   "metadata": {},
   "outputs": [],
   "source": [
    "driver = webdriver.Chrome()\n",
    "url = 'https://www.imdb.com/chart/top/'\n",
    "driver.get(url)"
   ]
  },
  {
   "cell_type": "code",
   "execution_count": null,
   "metadata": {},
   "outputs": [],
   "source": [
    "title = []\n",
    "year = []\n",
    "genre = []\n",
    "rating = []\n",
    "missing_rows = []"
   ]
  },
  {
   "cell_type": "code",
   "execution_count": null,
   "metadata": {},
   "outputs": [],
   "source": [
    "row_count = len(driver.find_elements(By.XPATH, '//*[@id=\"main\"]/div/span/div/div/div[3]/table/tbody/tr'))\n",
    "for row in range(1, row_count + 1):\n",
    "    try:\n",
    "        WebDriverWait(driver, 10).until(EC.visibility_of_element_located((By.XPATH, '//*[@id=\"main\"]/div/span/div/div/div[3]/table/tbody/tr[' + str(row) + ']/td[2]/a')))\n",
    "        driver.find_element(By.XPATH, '//*[@id=\"main\"]/div/span/div/div/div[3]/table/tbody/tr[' + str(row) + ']/td[2]/a').click()\n",
    "\n",
    "        title.append(driver.find_element(By.XPATH, '//*[@id=\"__next\"]/main/div/section[1]/section/div[3]/section/section/div[1]/div[1]/h1').text)\n",
    "\n",
    "        year.append(driver.find_element(By.XPATH, '//*[@id=\"__next\"]/main/div/section[1]/section/div[3]/section/section/div[1]/div[1]/div[2]/ul/li[1]/a').text)\n",
    "        \n",
    "        num_of_genre = len(driver.find_elements(By.XPATH, '//*[@id=\"__next\"]/main/div/section[1]/section/div[3]/section/section/div[3]/div[2]/div[1]/div[1]/div'))\n",
    "        thisGenre = []\n",
    "        for i in range(1, num_of_genre + 1):\n",
    "            thisGenre.append(driver.find_element(By.XPATH, '//*[@id=\"__next\"]/main/div/section[1]/section/div[3]/section/section/div[3]/div[2]/div[1]/div[1]/div/a[' + str(i) + ']/span').text)\n",
    "        genre.append(thisGenre)\n",
    "\n",
    "        rating.append(driver.find_element(By.XPATH, '//*[@id=\"__next\"]/main/div/section[1]/section/div[3]/section/section/div[1]/div[2]/div/div[1]/a/div/div/div[2]/div[1]/span[1]').text)\n",
    "    except:\n",
    "        missing_rows.append(row)\n",
    "\n",
    "    time.sleep(2)\n",
    "    driver.back()"
   ]
  },
  {
   "cell_type": "code",
   "execution_count": 59,
   "metadata": {},
   "outputs": [],
   "source": [
    "movies = [{\n",
    "    'Title': a, \n",
    "    'Year': b, \n",
    "    'Genre': c, \n",
    "    'Rating': d\n",
    "} for a, b, c, d in zip(title, year, genre, rating)]"
   ]
  },
  {
   "cell_type": "code",
   "execution_count": 63,
   "metadata": {},
   "outputs": [],
   "source": [
    "df = pd.DataFrame(movies)\n",
    "df.to_csv('/Users/kakiuchan/Documents/data science/imdb.csv')"
   ]
  },
  {
   "cell_type": "code",
   "execution_count": 64,
   "metadata": {},
   "outputs": [],
   "source": [
    "time.sleep(2)\n",
    "driver.quit()"
   ]
  }
 ],
 "metadata": {
  "interpreter": {
   "hash": "aee8b7b246df8f9039afb4144a1f6fd8d2ca17a180786b69acc140d282b71a49"
  },
  "kernelspec": {
   "display_name": "Python 3.10.2 64-bit",
   "language": "python",
   "name": "python3"
  },
  "language_info": {
   "codemirror_mode": {
    "name": "ipython",
    "version": 3
   },
   "file_extension": ".py",
   "mimetype": "text/x-python",
   "name": "python",
   "nbconvert_exporter": "python",
   "pygments_lexer": "ipython3",
   "version": "3.10.2"
  },
  "orig_nbformat": 4
 },
 "nbformat": 4,
 "nbformat_minor": 2
}
